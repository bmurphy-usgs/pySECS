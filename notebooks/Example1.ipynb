{
 "cells": [
  {
   "cell_type": "markdown",
   "metadata": {},
   "source": [
    "# Example Notebook\n",
    "\n",
    "Reproducing Figure 2 of Amm & Viljanen"
   ]
  },
  {
   "cell_type": "code",
   "execution_count": 1,
   "metadata": {},
   "outputs": [],
   "source": [
    "import numpy as np\n",
    "from pySECS import SECS\n",
    "import matplotlib.pyplot as plt\n",
    "%matplotlib inline"
   ]
  },
  {
   "cell_type": "code",
   "execution_count": 2,
   "metadata": {},
   "outputs": [],
   "source": [
    "# Radius of Earth\n",
    "R_E = 6371e3\n",
    "\n",
    "# Pole of the current system at the North Pole\n",
    "sec_loc = np.array([90., 0., R_E + 100e3])\n",
    "\n",
    "# Set up the current system\n",
    "system = SECS(sec_df_loc=sec_loc)"
   ]
  },
  {
   "cell_type": "code",
   "execution_count": 3,
   "metadata": {},
   "outputs": [
    {
     "data": {
      "text/plain": [
       "array([[10000.]])"
      ]
     },
     "execution_count": 3,
     "metadata": {},
     "output_type": "execute_result"
    }
   ],
   "source": [
    "system.fit_unit_currents()\n",
    "# Scale the system corresponding to Figure 2 (10 kA)\n",
    "system.sec_amps *= 10000\n",
    "system.sec_amps"
   ]
  },
  {
   "cell_type": "code",
   "execution_count": 4,
   "metadata": {},
   "outputs": [],
   "source": [
    "N = 1000\n",
    "pred_loc = np.zeros(shape=(N, 3))\n",
    "angles = np.linspace(0, 45, N)\n",
    "\n",
    "pred_loc[:,0] = 90-angles\n",
    "pred_loc[:,2] = R_E\n",
    "\n",
    "B_pred = system.predict(pred_loc=pred_loc)\n",
    "J_pred = system.predict(pred_loc=pred_loc, J=True)"
   ]
  },
  {
   "cell_type": "code",
   "execution_count": 5,
   "metadata": {},
   "outputs": [
    {
     "data": {
      "text/plain": [
       "<matplotlib.lines.Line2D at 0x110f96438>"
      ]
     },
     "execution_count": 5,
     "metadata": {},
     "output_type": "execute_result"
    },
    {
     "data": {
      "image/png": "[encoded data removed]",
      "text/plain": [
       "<Figure size 432x288 with 1 Axes>"
      ]
     },
     "metadata": {},
     "output_type": "display_data"
    }
   ],
   "source": [
    "# B_theta == -Bx == -B_pred[:,0]\n",
    "# Convert to nT (1e9)\n",
    "B_theta = -B_pred[:,0]*1e9\n",
    "# B_r == Bz = B_pred[:,2]\n",
    "B_r = B_pred[:,2]*1e9\n",
    "\n",
    "fig, ax = plt.subplots()\n",
    "\n",
    "ax.plot(angles, B_theta, c='b', label=r'B$_{\\theta}$')\n",
    "ax.plot(angles, B_r, c='r', label=r'B$_r$')\n",
    "ax.legend(loc='upper right')\n",
    "ax.set_xlim(angles[0], angles[-1])\n",
    "ax.set_ylim(-5, 10)\n",
    "ax.set_xlabel('Angle from pole (deg)')\n",
    "ax.set_ylabel('B (nT)')\n",
    "ax.axhline(0., c='k', alpha=0.5, linewidth=0.5)"
   ]
  }
 ],
 "metadata": {
  "kernelspec": {
   "display_name": "Python 3",
   "language": "python",
   "name": "python3"
  },
  "language_info": {
   "codemirror_mode": {
    "name": "ipython",
    "version": 3
   },
   "file_extension": ".py",
   "mimetype": "text/x-python",
   "name": "python",
   "nbconvert_exporter": "python",
   "pygments_lexer": "ipython3",
   "version": "3.6.5"
  }
 },
 "nbformat": 4,
 "nbformat_minor": 2
}
